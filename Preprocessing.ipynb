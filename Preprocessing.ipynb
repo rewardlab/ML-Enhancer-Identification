{
 "cells": [
  {
   "cell_type": "code",
   "execution_count": 1,
   "metadata": {},
   "outputs": [],
   "source": [
    "import scanpy as sc\n",
    "import anndata\n",
    "from anndata import AnnData\n",
    "import pandas as pd\n",
    "import numpy as np\n",
    "import matplotlib.pyplot as plt\n",
    "from scipy.stats import mode\n",
    "from collections import Counter\n",
    "import seaborn as sns\n",
    "sc.settings.verbosity = 0 \n",
    "sc.settings.set_figure_params(dpi=150, color_map='viridis')  \n",
    "sc.logging.print_versions()"
   ]
  },
  {
   "cell_type": "markdown",
   "metadata": {},
   "source": [
    "## Starting from 10X Dataset"
   ]
  },
  {
   "cell_type": "code",
   "execution_count": 2,
   "metadata": {},
   "outputs": [],
   "source": [
    "raw_adata1 = sc.read_10x_mtx('oskar_sample1',var_names='gene_symbols',cache=True)"
   ]
  },
  {
   "cell_type": "code",
   "execution_count": 3,
   "metadata": {},
   "outputs": [],
   "source": [
    "raw_adata2 = sc.read_10x_mtx('oskar_sample2',var_names='gene_symbols',cache=True)"
   ]
  },
  {
   "cell_type": "code",
   "execution_count": 4,
   "metadata": {},
   "outputs": [],
   "source": [
    "raw_adata3 = sc.read_10x_mtx('salem_sample1',var_names='gene_symbols',cache=True)"
   ]
  },
  {
   "cell_type": "code",
   "execution_count": 5,
   "metadata": {},
   "outputs": [],
   "source": [
    "raw_adata4 = sc.read_10x_mtx('salem_sample2',var_names='gene_symbols',cache=True)"
   ]
  },
  {
   "cell_type": "code",
   "execution_count": 6,
   "metadata": {},
   "outputs": [],
   "source": [
    "raw_adata5 = sc.read_10x_mtx('memphis',var_names='gene_symbols',cache=True)"
   ]
  },
  {
   "cell_type": "code",
   "execution_count": 7,
   "metadata": {},
   "outputs": [],
   "source": [
    "raw_adata6 = sc.read_10x_mtx('london',var_names='gene_symbols',cache=True)"
   ]
  },
  {
   "cell_type": "code",
   "execution_count": 8,
   "metadata": {},
   "outputs": [],
   "source": [
    "raw_adata7 = sc.read_10x_mtx('Nairobi_1SN',var_names='gene_symbols',cache=True)"
   ]
  },
  {
   "cell_type": "code",
   "execution_count": 9,
   "metadata": {},
   "outputs": [],
   "source": [
    "raw_adata8 = sc.read_10x_mtx('Nairobi_2SN',var_names='gene_symbols',cache=True)"
   ]
  },
  {
   "cell_type": "code",
   "execution_count": 10,
   "metadata": {
    "scrolled": true
   },
   "outputs": [
    {
     "data": {
      "text/plain": [
       "AnnData object with n_obs × n_vars = 118240 × 54894\n",
       "    obs: 'batch'\n",
       "    var: 'gene_ids'"
      ]
     },
     "execution_count": 10,
     "metadata": {},
     "output_type": "execute_result"
    }
   ],
   "source": [
    "#join data together\n",
    "raw_adata_ori = raw_adata1.concatenate(raw_adata2, raw_adata3,raw_adata4,raw_adata5,raw_adata6,raw_adata7,raw_adata8)\n",
    "raw_adata_ori"
   ]
  },
  {
   "cell_type": "code",
   "execution_count": 11,
   "metadata": {},
   "outputs": [
    {
     "data": {
      "text/plain": [
       "AnnData object with n_obs × n_vars = 118240 × 54894\n",
       "    obs: 'batch', 'cell_id'\n",
       "    var: 'gene_ids'"
      ]
     },
     "execution_count": 11,
     "metadata": {},
     "output_type": "execute_result"
    }
   ],
   "source": [
    "#give cells (number ids)\n",
    "raw_adata_ori.obs['cell_id'] = range(raw_adata_ori.obs.shape[0])\n",
    "raw_adata_ori"
   ]
  },
  {
   "cell_type": "code",
   "execution_count": 12,
   "metadata": {},
   "outputs": [
    {
     "data": {
      "text/plain": [
       "AnnData object with n_obs × n_vars = 118240 × 54894\n",
       "    obs: 'batch', 'cell_id', 'sample_names'\n",
       "    var: 'gene_ids'"
      ]
     },
     "execution_count": 12,
     "metadata": {},
     "output_type": "execute_result"
    }
   ],
   "source": [
    "#give another colum \n",
    "sample_ids = list(map(int,raw_adata_ori.obs['batch']))\n",
    "sample_names = ['1','2','3','4','5','6','7','8']\n",
    "\n",
    "sample_names = pd.Series([sample_names[sample_id] for sample_id in sample_ids])\n",
    "raw_adata_ori.obs['sample_names'] = list(sample_names)\n",
    "raw_adata_ori"
   ]
  },
  {
   "cell_type": "code",
   "execution_count": 13,
   "metadata": {},
   "outputs": [
    {
     "data": {
      "text/plain": [
       "AnnData object with n_obs × n_vars = 118240 × 54894\n",
       "    obs: 'batch', 'cell_id', 'sample_names', 'monkey'\n",
       "    var: 'gene_ids'"
      ]
     },
     "execution_count": 13,
     "metadata": {},
     "output_type": "execute_result"
    }
   ],
   "source": [
    "#give another colum \n",
    "sample_ids = list(map(int,raw_adata_ori.obs['batch']))\n",
    "region_names = ['1','1','2','2','3','4','5','5']\n",
    "region_names = pd.Series([region_names[sample_id] for sample_id in sample_ids])\n",
    "raw_adata_ori.obs['monkey'] = list(region_names)\n",
    "raw_adata_ori"
   ]
  },
  {
   "cell_type": "code",
   "execution_count": 14,
   "metadata": {},
   "outputs": [
    {
     "name": "stderr",
     "output_type": "stream",
     "text": [
      "... storing 'sample_names' as categorical\n",
      "... storing 'monkey' as categorical\n"
     ]
    }
   ],
   "source": [
    "AnnData.write(raw_adata_ori, filename='./processed_data/raw_adata_BeforeDB.h5ad', compression=None, compression_opts=None, force_dense=None)"
   ]
  },
  {
   "cell_type": "code",
   "execution_count": 15,
   "metadata": {},
   "outputs": [],
   "source": [
    "raw_adata_ori = anndata.read_h5ad('./processed_data/raw_adata_BeforeDB.h5ad')"
   ]
  },
  {
   "cell_type": "markdown",
   "metadata": {},
   "source": [
    "Doublet removal by doubledetection"
   ]
  },
  {
   "cell_type": "code",
   "execution_count": 16,
   "metadata": {},
   "outputs": [
    {
     "data": {
      "application/vnd.jupyter.widget-view+json": {
       "model_id": "d48efef849664af79e14009f63b54c00",
       "version_major": 2,
       "version_minor": 0
      },
      "text/plain": [
       "  0%|          | 0/25 [00:00<?, ?it/s]"
      ]
     },
     "metadata": {},
     "output_type": "display_data"
    }
   ],
   "source": [
    "import doubletdetection\n",
    "clf = doubletdetection.BoostClassifier()\n",
    "doublets = clf.fit(raw_adata_ori.X).predict()\n",
    "raw_adata_ori.obs['doublet'] = pd.Categorical(doublets.astype(bool))\n",
    "raw_adata_ori = raw_adata_ori[np.logical_not(list(raw_adata_ori.obs['doublet']))]\n",
    "del raw_adata_ori.obs['doublet']"
   ]
  },
  {
   "cell_type": "code",
   "execution_count": 17,
   "metadata": {},
   "outputs": [
    {
     "data": {
      "text/plain": [
       "View of AnnData object with n_obs × n_vars = 110633 × 54894\n",
       "    obs: 'batch', 'cell_id', 'sample_names', 'monkey'\n",
       "    var: 'gene_ids'"
      ]
     },
     "execution_count": 17,
     "metadata": {},
     "output_type": "execute_result"
    }
   ],
   "source": [
    "raw_adata = raw_adata_ori\n",
    "raw_adata"
   ]
  },
  {
   "cell_type": "code",
   "execution_count": 18,
   "metadata": {
    "scrolled": true
   },
   "outputs": [],
   "source": [
    "AnnData.write(raw_adata, filename='./processed_data/raw_adata_afterDB.h5ad', compression=None, compression_opts=None, force_dense=None)"
   ]
  },
  {
   "cell_type": "code",
   "execution_count": 19,
   "metadata": {},
   "outputs": [
    {
     "name": "stderr",
     "output_type": "stream",
     "text": [
      "Trying to set attribute `.obs` of view, copying.\n"
     ]
    },
    {
     "data": {
      "text/plain": [
       "AnnData object with n_obs × n_vars = 110633 × 31121\n",
       "    obs: 'batch', 'cell_id', 'sample_names', 'monkey', 'n_genes', 'percent.mt', 'nCount_RNA'\n",
       "    var: 'gene_ids', 'n_cells', 'n_counts'"
      ]
     },
     "execution_count": 19,
     "metadata": {},
     "output_type": "execute_result"
    }
   ],
   "source": [
    "sc.pp.filter_cells(raw_adata, min_genes=200)\n",
    "sc.pp.filter_genes(raw_adata, min_cells=5)\n",
    "sc.pp.filter_genes(raw_adata, min_counts=15)\n",
    "mito_genes = raw_adata.var_names.str.startswith('MT-')\n",
    "# for each cell compute fraction of counts in mito genes vs. all genes\n",
    "raw_adata.obs['percent.mt'] = np.sum(raw_adata[:, mito_genes].X, axis=1).A1 / np.sum(raw_adata.X, axis=1).A1\n",
    "# add the total counts per cell as observations-annotation to adata\n",
    "raw_adata.obs['nCount_RNA'] = raw_adata.X.sum(axis=1).A1\n",
    "raw_adata"
   ]
  },
  {
   "cell_type": "code",
   "execution_count": 20,
   "metadata": {},
   "outputs": [
    {
     "data": {
      "text/plain": [
       "CICP27        1.800000e+01\n",
       "AP006222.1    5.963097e+01\n",
       "MTND1P23      1.448023e+03\n",
       "MTND2P28      1.334119e+06\n",
       "MTCO1P12      7.218649e+05\n",
       "                  ...     \n",
       "RPL18AP2      4.820137e+01\n",
       "DIP2A         6.911676e+04\n",
       "S100B         1.176395e+04\n",
       "PRMT2         3.914368e+04\n",
       "DSTNP1        1.942477e+01\n",
       "Name: n_counts, Length: 31121, dtype: float32"
      ]
     },
     "execution_count": 20,
     "metadata": {},
     "output_type": "execute_result"
    }
   ],
   "source": [
    "raw_adata.var['n_counts']"
   ]
  },
  {
   "cell_type": "code",
   "execution_count": 21,
   "metadata": {},
   "outputs": [
    {
     "data": {
      "text/plain": [
       "CICP27           18\n",
       "AP006222.1       77\n",
       "MTND1P23       2127\n",
       "MTND2P28      37093\n",
       "MTCO1P12      34631\n",
       "              ...  \n",
       "RPL18AP2         48\n",
       "DIP2A         45321\n",
       "S100B         13485\n",
       "PRMT2         36884\n",
       "DSTNP1           20\n",
       "Name: n_cells, Length: 31121, dtype: int64"
      ]
     },
     "execution_count": 21,
     "metadata": {},
     "output_type": "execute_result"
    }
   ],
   "source": [
    "raw_adata.var['n_cells']"
   ]
  },
  {
   "cell_type": "code",
   "execution_count": 22,
   "metadata": {},
   "outputs": [
    {
     "data": {
      "text/plain": [
       "AAACCCAAGCAAATGT-1-0    11324.132812\n",
       "AAACCCAAGCCTCAGC-1-0    11302.038086\n",
       "AAACCCACATGGATCT-1-0     5087.105957\n",
       "AAACCCAGTAGCGCCT-1-0     3620.108398\n",
       "AAACCCAGTCGTCATA-1-0     3198.436523\n",
       "                            ...     \n",
       "TTTGTGTTCTACCTAT-1-7     2039.548096\n",
       "TTTGTTGGTCCTAACT-1-7     2358.319092\n",
       "TTTGTTGGTCTCACTG-1-7     1258.595215\n",
       "TTTGTTGGTTGCAATG-1-7     2958.033203\n",
       "TTTGTTGGTTGTGATG-1-7     4242.266113\n",
       "Name: nCount_RNA, Length: 110633, dtype: float32"
      ]
     },
     "execution_count": 22,
     "metadata": {},
     "output_type": "execute_result"
    }
   ],
   "source": [
    "raw_adata.obs['nCount_RNA']"
   ]
  },
  {
   "cell_type": "code",
   "execution_count": 23,
   "metadata": {},
   "outputs": [
    {
     "name": "stdout",
     "output_type": "stream",
     "text": [
      "362\n"
     ]
    },
    {
     "data": {
      "text/plain": [
       "View of AnnData object with n_obs × n_vars = 110633 × 30759\n",
       "    obs: 'batch', 'cell_id', 'sample_names', 'monkey', 'n_genes', 'percent.mt', 'nCount_RNA', 'percent_ribo'\n",
       "    var: 'gene_ids', 'n_cells', 'n_counts'"
      ]
     },
     "execution_count": 23,
     "metadata": {},
     "output_type": "execute_result"
    }
   ],
   "source": [
    "ribo_genes = raw_adata.var_names.str.startswith((\"RPS\",\"RPL\"))\n",
    "print(sum(ribo_genes))\n",
    "raw_adata.obs['percent_ribo'] = np.sum(raw_adata[:, ribo_genes].X, axis=1).A1 / np.sum(raw_adata.X, axis=1).A1\n",
    "raw_adata = raw_adata[:,~ribo_genes]\n",
    "raw_adata"
   ]
  },
  {
   "cell_type": "code",
   "execution_count": 24,
   "metadata": {},
   "outputs": [],
   "source": [
    "AnnData.write(raw_adata,filename=\"./processed_data/raw_adata_afterDB_colomns_added.h5ad\", compression=None, compression_opts=None, force_dense=None)"
   ]
  }
 ],
 "metadata": {
  "kernelspec": {
   "display_name": "scanpy_old",
   "language": "python",
   "name": "scanpy_old"
  },
  "language_info": {
   "codemirror_mode": {
    "name": "ipython",
    "version": 3
   },
   "file_extension": ".py",
   "mimetype": "text/x-python",
   "name": "python",
   "nbconvert_exporter": "python",
   "pygments_lexer": "ipython3",
   "version": "3.6.13"
  }
 },
 "nbformat": 4,
 "nbformat_minor": 2
}
